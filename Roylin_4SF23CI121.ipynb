{
 "cells": [
  {
   "cell_type": "code",
   "execution_count": 0,
   "metadata": {
    "application/vnd.databricks.v1+cell": {
     "cellMetadata": {
      "byteLimit": 2048000,
      "rowLimit": 10000
     },
     "inputWidgets": {},
     "nuid": "9e005a45-6d1e-4c0c-a289-d29e58b6ec1b",
     "showTitle": false,
     "tableResultSettingsMap": {},
     "title": ""
    }
   },
   "outputs": [
    {
     "output_type": "execute_result",
     "data": {
      "text/plain": [
       "<pyspark.sql.connect.session.SparkSession at 0xff85996ce4b0>"
      ]
     },
     "execution_count": 4,
     "metadata": {},
     "output_type": "execute_result"
    }
   ],
   "source": [
    "spark"
   ]
  },
  {
   "cell_type": "code",
   "execution_count": 0,
   "metadata": {
    "application/vnd.databricks.v1+cell": {
     "cellMetadata": {
      "byteLimit": 2048000,
      "rowLimit": 10000
     },
     "inputWidgets": {},
     "nuid": "a2facdb2-f9f5-4479-9052-e9528c3d5a74",
     "showTitle": false,
     "tableResultSettingsMap": {},
     "title": ""
    }
   },
   "outputs": [
    {
     "output_type": "stream",
     "name": "stdout",
     "output_type": "stream",
     "text": [
      "+-------+-------+--------------------+---------------+--------------------+-------------+------------------+------------+------+---------+--------------------+--------------------+\n|show_id|   type|               title|      directors|                cast|    countries|        date_added|release_year|rating| duration|           listed_in|         description|\n+-------+-------+--------------------+---------------+--------------------+-------------+------------------+------------+------+---------+--------------------+--------------------+\n|     s1|  Movie|Dick Johnson Is Dead|Kirsten Johnson|                NULL|United States|September 25, 2021|        2020| PG-13|   90 min|       Documentaries|As her father nea...|\n|     s2|TV Show|       Blood & Water|           NULL|Ama Qamata, Khosi...| South Africa|September 24, 2021|        2021| TV-MA|2 Seasons|International TV ...|After crossing pa...|\n|     s3|TV Show|           Ganglands|Julien Leclercq|Sami Bouajila, Tr...|         NULL|September 24, 2021|        2021| TV-MA| 1 Season|Crime TV Shows, I...|To protect his fa...|\n|     s4|TV Show|Jailbirds New Orl...|           NULL|                NULL|         NULL|September 24, 2021|        2021| TV-MA| 1 Season|Docuseries, Reali...|Feuds, flirtation...|\n|     s5|TV Show|        Kota Factory|           NULL|Mayur More, Jiten...|        India|September 24, 2021|        2021| TV-MA|2 Seasons|International TV ...|In a city of coac...|\n+-------+-------+--------------------+---------------+--------------------+-------------+------------------+------------+------+---------+--------------------+--------------------+\nonly showing top 5 rows\n"
     ]
    }
   ],
   "source": [
    "flight_df = spark.read.format(\"csv\") \\\n",
    "    .option(\"header\", \"true\") \\\n",
    "    .option(\"inferSchema\", \"true\") \\\n",
    "    .option(\"mode\", \"PERMISSIVE\") \\\n",
    "    .load(\"dbfs:/Volumes/workspace/default/task2/netflix_titles_CLEANED.csv\")\n",
    "\n",
    "flight_df.show(5)\n"
   ]
  },
  {
   "cell_type": "code",
   "execution_count": 0,
   "metadata": {
    "application/vnd.databricks.v1+cell": {
     "cellMetadata": {
      "byteLimit": 2048000,
      "rowLimit": 10000
     },
     "inputWidgets": {},
     "nuid": "5a657877-78a4-41ae-bbc1-c0e087948792",
     "showTitle": false,
     "tableResultSettingsMap": {},
     "title": ""
    }
   },
   "outputs": [],
   "source": [
    "from pyspark.sql.types import StructType, StructField, StringType, IntegerType, DateType\n"
   ]
  },
  {
   "cell_type": "code",
   "execution_count": 0,
   "metadata": {
    "application/vnd.databricks.v1+cell": {
     "cellMetadata": {
      "byteLimit": 2048000,
      "rowLimit": 10000
     },
     "inputWidgets": {},
     "nuid": "afe60ad3-2511-4c1b-bedb-b872f5a8a83a",
     "showTitle": false,
     "tableResultSettingsMap": {},
     "title": ""
    }
   },
   "outputs": [],
   "source": [
    "from pyspark.sql.types import StructType, StructField, StringType, IntegerType\n",
    "\n",
    "# Create a schema that includes the corrupt record column\n",
    "my_schema = StructType([\n",
    "    StructField(\"show_id\", StringType(), True),\n",
    "    StructField(\"type\", StringType(), True),\n",
    "    StructField(\"title\", StringType(), True),\n",
    "    StructField(\"director\", StringType(), True),\n",
    "    StructField(\"cast\", StringType(), True),\n",
    "    StructField(\"country\", StringType(), True),\n",
    "    StructField(\"date_added\", StringType(), True),\n",
    "    StructField(\"release_year\", IntegerType(), True),\n",
    "    StructField(\"rating\", StringType(), True),\n",
    "    StructField(\"duration\", StringType(), True),\n",
    "    StructField(\"listed_in\", StringType(), True),\n",
    "    StructField(\"description\", StringType(), True),\n",
    "    StructField(\"_corrupt_record\", StringType(), True)  # Add this at the end\n",
    "])\n"
   ]
  },
  {
   "cell_type": "code",
   "execution_count": 0,
   "metadata": {
    "application/vnd.databricks.v1+cell": {
     "cellMetadata": {
      "byteLimit": 2048000,
      "rowLimit": 10000
     },
     "inputWidgets": {},
     "nuid": "5018916a-6c24-4375-b1a4-a0134cd4ae52",
     "showTitle": false,
     "tableResultSettingsMap": {},
     "title": ""
    }
   },
   "outputs": [
    {
     "output_type": "stream",
     "name": "stdout",
     "output_type": "stream",
     "text": [
      "+-------+-------+---------------------+---------------+---------------------------------------------------------------------------------------------------------------------------------------------------------------------------------------------------------------------------------------------------------------------------------------------------------------+-------------+------------------+------------+------+---------+-------------------------------------------------------------+--------------------------------------------------------------------------------------------------------------------------------------------------------+---------------+\n|show_id|type   |title                |director       |cast                                                                                                                                                                                                                                                                                                           |country      |date_added        |release_year|rating|duration |listed_in                                                    |description                                                                                                                                             |_corrupt_record|\n+-------+-------+---------------------+---------------+---------------------------------------------------------------------------------------------------------------------------------------------------------------------------------------------------------------------------------------------------------------------------------------------------------------+-------------+------------------+------------+------+---------+-------------------------------------------------------------+--------------------------------------------------------------------------------------------------------------------------------------------------------+---------------+\n|s1     |Movie  |Dick Johnson Is Dead |Kirsten Johnson|NULL                                                                                                                                                                                                                                                                                                           |United States|September 25, 2021|2020        |PG-13 |90 min   |Documentaries                                                |As her father nears the end of his life, filmmaker Kirsten Johnson stages his death in inventive and comical ways to help them both face the inevitable.|NULL           |\n|s2     |TV Show|Blood & Water        |NULL           |Ama Qamata, Khosi Ngema, Gail Mabalane, Thabang Molaba, Dillon Windvogel, Natasha Thahane, Arno Greeff, Xolile Tshabalala, Getmore Sithole, Cindy Mahlangu, Ryle De Morny, Greteli Fincham, Sello Maake Ka-Ncube, Odwa Gwanya, Mekaila Mathys, Sandi Schultz, Duane Williams, Shamilla Miller, Patrick Mofokeng|South Africa |September 24, 2021|2021        |TV-MA |2 Seasons|International TV Shows, TV Dramas, TV Mysteries              |After crossing paths at a party, a Cape Town teen sets out to prove whether a private-school swimming star is her sister who was abducted at birth.     |NULL           |\n|s3     |TV Show|Ganglands            |Julien Leclercq|Sami Bouajila, Tracy Gotoas, Samuel Jouy, Nabiha Akkari, Sofia Lesaffre, Salim Kechiouche, Noureddine Farihi, Geert Van Rampelberg, Bakary Diombera                                                                                                                                                            |NULL         |September 24, 2021|2021        |TV-MA |1 Season |Crime TV Shows, International TV Shows, TV Action & Adventure|To protect his family from a powerful drug lord, skilled thief Mehdi and his expert team of robbers are pulled into a violent and deadly turf war.      |NULL           |\n|s4     |TV Show|Jailbirds New Orleans|NULL           |NULL                                                                                                                                                                                                                                                                                                           |NULL         |September 24, 2021|2021        |TV-MA |1 Season |Docuseries, Reality TV                                       |Feuds, flirtations and toilet talk go down among the incarcerated women at the Orleans Justice Center in New Orleans on this gritty reality series.     |NULL           |\n|s5     |TV Show|Kota Factory         |NULL           |Mayur More, Jitendra Kumar, Ranjan Raj, Alam Khan, Ahsaas Channa, Revathi Pillai, Urvi Singh, Arun Kumar                                                                                                                                                                                                       |India        |September 24, 2021|2021        |TV-MA |2 Seasons|International TV Shows, Romantic TV Shows, TV Comedies       |In a city of coaching centers known to train India’s finest collegiate minds, an earnest but unexceptional student and his friends navigate campus life.|NULL           |\n+-------+-------+---------------------+---------------+---------------------------------------------------------------------------------------------------------------------------------------------------------------------------------------------------------------------------------------------------------------------------------------------------------------+-------------+------------------+------------+------+---------+-------------------------------------------------------------+--------------------------------------------------------------------------------------------------------------------------------------------------------+---------------+\nonly showing top 5 rows\n"
     ]
    }
   ],
   "source": [
    "flight_df = spark.read.format(\"csv\") \\\n",
    "    .option(\"header\", \"true\") \\\n",
    "    .option(\"mode\", \"PERMISSIVE\") \\\n",
    "    .schema(my_schema) \\\n",
    "    .load(\"dbfs:/Volumes/workspace/default/task2/netflix_titles_CLEANED.csv\")\n",
    "\n",
    "flight_df.show(5, truncate=False)\n"
   ]
  },
  {
   "cell_type": "code",
   "execution_count": 0,
   "metadata": {
    "application/vnd.databricks.v1+cell": {
     "cellMetadata": {
      "byteLimit": 2048000,
      "rowLimit": 10000
     },
     "inputWidgets": {},
     "nuid": "e5bd5c09-d42b-4939-84a6-a209af8719a2",
     "showTitle": false,
     "tableResultSettingsMap": {},
     "title": ""
    }
   },
   "outputs": [
    {
     "output_type": "stream",
     "name": "stdout",
     "output_type": "stream",
     "text": [
      "+-------+-------+--------------------+---------------+--------------------+-------------+------------------+------------+------+---------+--------------------+--------------------+---------------+\n|show_id|   type|               title|       director|                cast|      country|        date_added|release_year|rating| duration|           listed_in|         description|_corrupt_record|\n+-------+-------+--------------------+---------------+--------------------+-------------+------------------+------------+------+---------+--------------------+--------------------+---------------+\n|     s1|  Movie|Dick Johnson Is Dead|Kirsten Johnson|                NULL|United States|September 25, 2021|        2020| PG-13|   90 min|       Documentaries|As her father nea...|           NULL|\n|     s2|TV Show|       Blood & Water|           NULL|Ama Qamata, Khosi...| South Africa|September 24, 2021|        2021| TV-MA|2 Seasons|International TV ...|After crossing pa...|           NULL|\n|     s3|TV Show|           Ganglands|Julien Leclercq|Sami Bouajila, Tr...|         NULL|September 24, 2021|        2021| TV-MA| 1 Season|Crime TV Shows, I...|To protect his fa...|           NULL|\n|     s4|TV Show|Jailbirds New Orl...|           NULL|                NULL|         NULL|September 24, 2021|        2021| TV-MA| 1 Season|Docuseries, Reali...|Feuds, flirtation...|           NULL|\n|     s5|TV Show|        Kota Factory|           NULL|Mayur More, Jiten...|        India|September 24, 2021|        2021| TV-MA|2 Seasons|International TV ...|In a city of coac...|           NULL|\n+-------+-------+--------------------+---------------+--------------------+-------------+------------------+------------+------+---------+--------------------+--------------------+---------------+\nonly showing top 5 rows\nroot\n |-- show_id: string (nullable = true)\n |-- type: string (nullable = true)\n |-- title: string (nullable = true)\n |-- director: string (nullable = true)\n |-- cast: string (nullable = true)\n |-- country: string (nullable = true)\n |-- date_added: string (nullable = true)\n |-- release_year: integer (nullable = true)\n |-- rating: string (nullable = true)\n |-- duration: string (nullable = true)\n |-- listed_in: string (nullable = true)\n |-- description: string (nullable = true)\n |-- _corrupt_record: string (nullable = true)\n\n"
     ]
    }
   ],
   "source": [
    "flight_df.show(5)\n",
    "flight_df.printSchema()\n"
   ]
  },
  {
   "cell_type": "code",
   "execution_count": 0,
   "metadata": {
    "application/vnd.databricks.v1+cell": {
     "cellMetadata": {
      "byteLimit": 2048000,
      "rowLimit": 10000
     },
     "inputWidgets": {},
     "nuid": "5db6ecbe-8852-4c6a-8528-d6a3a6496ac1",
     "showTitle": false,
     "tableResultSettingsMap": {},
     "title": ""
    }
   },
   "outputs": [
    {
     "output_type": "stream",
     "name": "stdout",
     "output_type": "stream",
     "text": [
      "+-------------+-----+\n|         type|count|\n+-------------+-----+\n|      TV Show| 2676|\n|        Movie| 6131|\n|         NULL|    1|\n|William Wyler|    1|\n+-------------+-----+\n\n"
     ]
    }
   ],
   "source": [
    "flight_df.groupBy(\"type\").count().show()\n"
   ]
  },
  {
   "cell_type": "code",
   "execution_count": 0,
   "metadata": {
    "application/vnd.databricks.v1+cell": {
     "cellMetadata": {
      "byteLimit": 2048000,
      "rowLimit": 10000
     },
     "inputWidgets": {},
     "nuid": "16df54a2-1efd-4b64-a09d-2515482becc8",
     "showTitle": false,
     "tableResultSettingsMap": {},
     "title": ""
    }
   },
   "outputs": [
    {
     "output_type": "execute_result",
     "data": {
      "text/plain": [
       "['show_id',\n",
       " 'type',\n",
       " 'title',\n",
       " 'director',\n",
       " 'cast',\n",
       " 'country',\n",
       " 'date_added',\n",
       " 'release_year',\n",
       " 'rating',\n",
       " 'duration',\n",
       " 'listed_in',\n",
       " 'description']"
      ]
     },
     "execution_count": 23,
     "metadata": {},
     "output_type": "execute_result"
    }
   ],
   "source": [
    "flight_df.columns\n"
   ]
  },
  {
   "cell_type": "code",
   "execution_count": 0,
   "metadata": {
    "application/vnd.databricks.v1+cell": {
     "cellMetadata": {
      "byteLimit": 2048000,
      "rowLimit": 10000
     },
     "inputWidgets": {},
     "nuid": "95251b95-0311-4979-a182-f1ccf3d9affb",
     "showTitle": false,
     "tableResultSettingsMap": {},
     "title": ""
    }
   },
   "outputs": [
    {
     "output_type": "execute_result",
     "data": {
      "text/plain": [
       "12"
      ]
     },
     "execution_count": 24,
     "metadata": {},
     "output_type": "execute_result"
    }
   ],
   "source": [
    "len(flight_df.columns)\n"
   ]
  },
  {
   "cell_type": "code",
   "execution_count": 0,
   "metadata": {
    "application/vnd.databricks.v1+cell": {
     "cellMetadata": {
      "byteLimit": 2048000,
      "rowLimit": 10000
     },
     "inputWidgets": {},
     "nuid": "64c06626-e283-476c-920d-1f79b834db9b",
     "showTitle": false,
     "tableResultSettingsMap": {},
     "title": ""
    }
   },
   "outputs": [
    {
     "output_type": "stream",
     "name": "stdout",
     "output_type": "stream",
     "text": [
      "+-------+-------+----------------------------------------------------+-------------------------------------------------------+--------------------------------------------------------------------------------------------------------------------------------------------------------------------------------------------------------------------------------------------------------------------------------------------------------+----------------------------------------------------+------------------------------+------------+-----------------------+-------------+-----------------------------------------------------------------+----------------------------------------------------------------------------------------------------------------------+----------------------------------------------------------------------------------------------------------------------------------------------------------------------------------------------------------------------------------------------------------------------------------------------------------------------------------------------------------------------------------------------------------------------------------------------------------------------------------------------------------------------------------------------------------------------------------------------------------------------------------------------------------------------------------------------------------+\n|show_id|type   |title                                               |director                                               |cast                                                                                                                                                                                                                                                                                                    |country                                             |date_added                    |release_year|rating                 |duration     |listed_in                                                        |description                                                                                                           |_corrupt_record                                                                                                                                                                                                                                                                                                                                                                                                                                                                                                                                                                                                                                                                                           |\n+-------+-------+----------------------------------------------------+-------------------------------------------------------+--------------------------------------------------------------------------------------------------------------------------------------------------------------------------------------------------------------------------------------------------------------------------------------------------------+----------------------------------------------------+------------------------------+------------+-----------------------+-------------+-----------------------------------------------------------------+----------------------------------------------------------------------------------------------------------------------+----------------------------------------------------------------------------------------------------------------------------------------------------------------------------------------------------------------------------------------------------------------------------------------------------------------------------------------------------------------------------------------------------------------------------------------------------------------------------------------------------------------------------------------------------------------------------------------------------------------------------------------------------------------------------------------------------------+\n|s74    |Movie  |King of Boys                                        |Kemi Adetiba                                           |\"Sola Sobowale, Adesua Etomi, Remilekun \"\"Reminisce\"\" Safaru                                                                                                                                                                                                                                            | Tobechukwu \"\"iLLbliss\"\" Ejiofor                    | Toni Tones                   |NULL        | Jide Kosoko           | Sharon Ooja\"|Nigeria                                                          |September 14, 2021                                                                                                    |s74,Movie,King of Boys,Kemi Adetiba,\"Sola Sobowale, Adesua Etomi, Remilekun \"\"Reminisce\"\" Safaru, Tobechukwu \"\"iLLbliss\"\" Ejiofor, Toni Tones, Paul Sambo, Jide Kosoko, Sharon Ooja\",Nigeria,\"September 14, 2021\",2018,TV-MA,182 min,\"Dramas, International Movies\",\"When a powerful businesswoman’s political ambitions are threatened by her underworld connections, the ensuing power struggle could cost her everything.\"                                                                                                                                                                                                                                                                             |\n|s107   |TV Show|Bunk'd                                              |NULL                                                   |Peyton List, Karan Brar, Skai Jackson, Miranda May, Kevin G. Quinn, Nathan Arenas, Nina Lu                                                                                                                                                                                                              |United States                                       |September 5, 2021             |2021        |TV-G                   |5 Seasons    |Kids' TV, TV Comedies                                            |\"The Ross siblings of Disney's hit series \"\"Jessie\"\" spend a summer full of fun and adventure at Maine's Camp Kikiwaka|s107,TV Show,Bunk'd,,\"Peyton List, Karan Brar, Skai Jackson, Miranda May, Kevin G. Quinn, Nathan Arenas, Nina Lu\",United States,\"September 5, 2021\",2021,TV-G,5 Seasons,\"Kids' TV, TV Comedies\",\"The Ross siblings of Disney's hit series \"\"Jessie\"\" spend a summer full of fun and adventure at Maine's Camp Kikiwaka, where their parents first met.\"                                                                                                                                                                                                                                                                                                                                                   |\n|s138   |Movie  |Crocodile Dundee in Los Angeles                     |Simon Wincer                                           |Paul Hogan, Linda Kozlowski, Jere Burns, Jonathan Banks, Aida Turturro, Alec Wilson, Gerry Skilton, Steve Rackman, Serge Cockburn, Paul Rodriguez, Mark Adair-Rios, Tiriel Mora, Grant Piro, Mike Tyson                                                                                                 |Australia, United States                            |September 1, 2021             |2001        |PG                     |95 min       |Action & Adventure, Comedies                                     |\"When Mick \"\"Crocodile\"\" Dundee and his family land in Los Angeles                                                    |s138,Movie,Crocodile Dundee in Los Angeles,Simon Wincer,\"Paul Hogan, Linda Kozlowski, Jere Burns, Jonathan Banks, Aida Turturro, Alec Wilson, Gerry Skilton, Steve Rackman, Serge Cockburn, Paul Rodriguez, Mark Adair-Rios, Tiriel Mora, Grant Piro, Mike Tyson\",\"Australia, United States\",\"September 1, 2021\",2001,PG,95 min,\"Action & Adventure, Comedies\",\"When Mick \"\"Crocodile\"\" Dundee and his family land in Los Angeles, they soon learn some lessons about American life in this comedy sequel.\"                                                                                                                                                                                               |\n|s143   |Movie  |Freedom Writers                                     |Richard LaGravenese                                    |Hilary Swank, Patrick Dempsey, Scott Glenn, Imelda Staunton, April L. Hernandez, Mario, Kristin Herrera, Jaclyn Ngan, Sergio Montalvo, Jason Finn, Deance Wyatt, Vanetta Smith                                                                                                                          |Germany, United States                              |September 1, 2021             |2007        |PG-13                  |124 min      |Dramas                                                           |\"While her at-risk students are reading classics such as \"\"The Diary of Anne Frank                                    |s143,Movie,Freedom Writers,Richard LaGravenese,\"Hilary Swank, Patrick Dempsey, Scott Glenn, Imelda Staunton, April L. Hernandez, Mario, Kristin Herrera, Jaclyn Ngan, Sergio Montalvo, Jason Finn, Deance Wyatt, Vanetta Smith\",\"Germany, United States\",\"September 1, 2021\",2007,PG-13,124 min,Dramas,\"While her at-risk students are reading classics such as \"\"The Diary of Anne Frank,\"\" a teacher asks them to keep journals about their troubled lives.\"                                                                                                                                                                                                                                            |\n|s171   |Movie  |Rhyme & Reason                                      |Peter Spirer                                           |\"Too $hort, B-Real, Kurtis Blow, Da Brat, Grandmaster Caz, Sean \"\"P. Diddy\"\" Combs                                                                                                                                                                                                                      | Chuck D.                                           | Desiree Densiti              |NULL        | E-40                  | MC Eiht     | Heavy D                                                         | Lauryn Hill                                                                                                          |s171,Movie,Rhyme & Reason,Peter Spirer,\"Too $hort, B-Real, Kurtis Blow, Da Brat, Grandmaster Caz, Sean \"\"P. Diddy\"\" Combs, Chuck D., Desiree Densiti, Dr. Dre, E-40, MC Eiht, Heavy D, Lauryn Hill, Ice-T, Wyclef Jean, Ras Kass, KRS-One, L.V., Mack 10, Craig Mack, Method Man, Keith Murray, Nasir 'Nas' Jones, The Notorious B.I.G., Master P, Q-Tip, Raekwon, Redman, Senen Reyes, Busta Rhymes, RZA, DJ Scratch, Erick Sermon, Tupac Shakur, Adario Strange, Suave\",United States,\"September 1, 2021\",1997,R,89 min,\"Documentaries, Music & Musicals\",\"The world and culture of rap song topics such as race, violence, police, family and sex are examined by hip-hop performers from both coasts.\"|\n|s199   |TV Show|King of Boys: The Return of the King                |Kemi Adetiba                                           |\"Sola Sobowale, Toni Tones, Richard Mofe-Damijo, Efa Iwara, Titi Kuti, Tobechukwu \"\"iLLbliss\"\" Ejiofor                                                                                                                                                                                                  | Remilekun \"\"Reminisce\"\" Safaru                     | Charles  \"\"Charly Boy\"\" Oputa|NULL        | Keppy Ekpenyong Bassey| Bimbo Manuel| Akin Lewis                                                      | Lord Frank                                                                                                           |s199,TV Show,King of Boys: The Return of the King,Kemi Adetiba,\"Sola Sobowale, Toni Tones, Richard Mofe-Damijo, Efa Iwara, Titi Kuti, Tobechukwu \"\"iLLbliss\"\" Ejiofor, Remilekun \"\"Reminisce\"\" Safaru, Charles  \"\"Charly Boy\"\" Oputa, Nse Ikpe-Etim, Keppy Ekpenyong Bassey, Bimbo Manuel, Akin Lewis, Lord Frank, Osas Ighodaro, Taiwo Ajai-Lycett, Paul Sambo\",Nigeria,\"August 27, 2021\",2021,TV-MA,1 Season,\"Crime TV Shows, International TV Shows, TV Dramas\",\"Alhaja Eniola Salami starts anew and sets her sights on a different position of power, fueled by revenge, regret and ruthlessness.\"                                                                                                   |\n|s266   |TV Show|Rascal Does Not Dream of Bunny Girl Senpai          |NULL                                                   |Kaito Ishikawa, Asami Seto, Nao Toyama, Atsumi Tanezaki, Maaya Uchida, Yurika Kubo, Inori Minase                                                                                                                                                                                                        |Japan                                               |August 15, 2021               |2018        |TV-14                  |1 Season     |Anime Series, International TV Shows, Romantic TV Shows          |\"After experiencing \"\"puberty syndrome\"\" himself                                                                      |s266,TV Show,Rascal Does Not Dream of Bunny Girl Senpai,,\"Kaito Ishikawa, Asami Seto, Nao Toyama, Atsumi Tanezaki, Maaya Uchida, Yurika Kubo, Inori Minase\",Japan,\"August 15, 2021\",2018,TV-14,1 Season,\"Anime Series, International TV Shows, Romantic TV Shows\",\"After experiencing \"\"puberty syndrome\"\" himself, high school pariah Sakuta keeps meeting girls suffering from it, including his sister and actor Mai.\"                                                                                                                                                                                                                                                                                 |\n|s289   |TV Show|Las muñecas de la mafia                             |NULL                                                   |Amparo Grisales, Fernando Solórzano, Angelica Blandon, Katherine Escobar, Yuly Ferreira, Alejandra Sandoval, Andrea Gómez, Andrea Guzmán, Diego Vásquez, Julián Román, Juan Pablo Franco                                                                                                                |Colombia                                            |August 10, 2021               |2018        |TV-MA                  |1 Season     |Crime TV Shows, International TV Shows, Spanish-Language TV Shows|\"Based on the book \"\"Las Fantásticas                                                                                  |s289,TV Show,Las muñecas de la mafia,,\"Amparo Grisales, Fernando Solórzano, Angelica Blandon, Katherine Escobar, Yuly Ferreira, Alejandra Sandoval, Andrea Gómez, Andrea Guzmán, Diego Vásquez, Julián Román, Juan Pablo Franco\",Colombia,\"August 10, 2021\",2018,TV-MA,1 Season,\"Crime TV Shows, International TV Shows, Spanish-Language TV Shows\",\"Based on the book \"\"Las Fantásticas,\"\" this exciting telenovela follows the tumultuous lives of five women who get mixed up with the Mafia.\"                                                                                                                                                                                                         |\n|s299   |Movie  |Quam's Money                                        |Kayode Kasum                                           |Falz, Nse Ikpe-Etim, Williams Uchemba, Toni Tones, Michelle Dede, Karibi Fubara, Buchi Ojei, Jemima Osunde, Blossom Chukwujekwu, Gbubemi Ejeye, Badmus Olakunle                                                                                                                                         |Nigeria                                             |August 6, 2021                |2020        |TV-MA                  |115 min      |Comedies, Dramas, International Movies                           |\"In this sequel to \"\"New Money                                                                                        |s299,Movie,Quam's Money,Kayode Kasum,\"Falz, Nse Ikpe-Etim, Williams Uchemba, Toni Tones, Michelle Dede, Karibi Fubara, Buchi Ojei, Jemima Osunde, Blossom Chukwujekwu, Gbubemi Ejeye, Badmus Olakunle\",Nigeria,\"August 6, 2021\",2020,TV-MA,115 min,\"Comedies, Dramas, International Movies\",\"In this sequel to \"\"New Money,\"\" Quam, a security guard turned multimillionaire, lives the good life with his fortune until he falls victim to fraud.\"                                                                                                                                                                                                                                                       |\n|s303   |Movie  |City of God: 10 Years Later                         |Cavi Borges, Luciano Vidigal                           |NULL                                                                                                                                                                                                                                                                                                    |Brazil                                              |August 5, 2021                |2013        |TV-MA                  |69 min       |Documentaries, International Movies                              |\"A decade after the seminal Brazilian film \"\"City of God                                                              |s303,Movie,City of God: 10 Years Later,\"Cavi Borges, Luciano Vidigal\",,Brazil,\"August 5, 2021\",2013,TV-MA,69 min,\"Documentaries, International Movies\",\"A decade after the seminal Brazilian film \"\"City of God,\"\" this documentary reunites some of the cast and crew to find out what paths their lives took.\"                                                                                                                                                                                                                                                                                                                                                                                          |\n|s433   |Movie  |Trollhunters: Rise of the Titans                    |Johane Matte, Andrew L. Schmidt, Francisco Ruiz Velasco|Emile Hirsch, Lexi Medrano, Charlie Saxton, Kelsey Grammer, Fred Tatasciore, Steven Yeun, Cole Sand, Amy Landecker, Jonathan Hyde, Thomas F. Wilson, Lauren Tom, Diego Luna, Tatiana Maslany, Nick Offerman, Nick Frost, Colin O'Donoghue, Alfred Molina, Piotr Michael, Kay Bess, Angel Lin, James Hong|NULL                                                |July 21, 2021                 |2021        |TV-Y7                  |106 min      |Children & Family Movies                                         |\"Heroes from \"\"Trollhunters                                                                                           |s433,Movie,Trollhunters: Rise of the Titans,\"Johane Matte, Andrew L. Schmidt, Francisco Ruiz Velasco\",\"Emile Hirsch, Lexi Medrano, Charlie Saxton, Kelsey Grammer, Fred Tatasciore, Steven Yeun, Cole Sand, Amy Landecker, Jonathan Hyde, Thomas F. Wilson, Lauren Tom, Diego Luna, Tatiana Maslany, Nick Offerman, Nick Frost, Colin O'Donoghue, Alfred Molina, Piotr Michael, Kay Bess, Angel Lin, James Hong\",,\"July 21, 2021\",2021,TV-Y7,106 min,Children & Family Movies,\"Heroes from \"\"Trollhunters,\"\" \"\"3Below\"\" and \"\"Wizards\"\" join forces to fight a shadowy enemy threatening to take over their worlds — and reset Earth itself.\"                                                             |\n|s471   |Movie  |Bridgerton - The Afterparty                         |NULL                                                   |David Spade, London Hughes, Fortune Feimster                                                                                                                                                                                                                                                            |NULL                                                |July 13, 2021                 |2021        |TV-14                  |39 min       |Movies                                                           |\"\"\"Bridgerton\"\" cast members share behind-the-scenes stories from the hit show                                        |s471,Movie,Bridgerton - The Afterparty,,\"David Spade, London Hughes, Fortune Feimster\",,\"July 13, 2021\",2021,TV-14,39 min,Movies,\"\"\"Bridgerton\"\" cast members share behind-the-scenes stories from the hit show, plus comedian Nikki Glaser breaks down the costume drama's sexiest moments.\"                                                                                                                                                                                                                                                                                                                                                                                                             |\n|s564   |Movie  |Austin Powers: The Spy Who Shagged Me               |Jay Roach                                              |Mike Myers, Heather Graham, Michael York, Robert Wagner, Rob Lowe, Seth Green, Mindy Sterling, Verne Troyer, Elizabeth Hurley, Will Ferrell                                                                                                                                                             |United States                                       |July 1, 2021                  |1999        |PG-13                  |95 min       |Action & Adventure, Comedies, Sci-Fi & Fantasy                   |\"When diabolical genius Dr. Evil travels back in time to steal superspy Austin Powers's \"\"mojo                        |s564,Movie,Austin Powers: The Spy Who Shagged Me,Jay Roach,\"Mike Myers, Heather Graham, Michael York, Robert Wagner, Rob Lowe, Seth Green, Mindy Sterling, Verne Troyer, Elizabeth Hurley, Will Ferrell\",United States,\"July 1, 2021\",1999,PG-13,95 min,\"Action & Adventure, Comedies, Sci-Fi & Fantasy\",\"When diabolical genius Dr. Evil travels back in time to steal superspy Austin Powers's \"\"mojo,\"\" Austin must return to the swingin' '60s himself.\"                                                                                                                                                                                                                                              |\n|s730   |Movie  |Bling Empire - The Afterparty                       |NULL                                                   |David Spade, London Hughes, Fortune Feimster                                                                                                                                                                                                                                                            |NULL                                                |June 12, 2021                 |2021        |TV-MA                  |36 min       |Movies                                                           |\"The stars of \"\"Bling Empire\"\" discuss the show's success and play bling-themed games                                 |s730,Movie,Bling Empire - The Afterparty,,\"David Spade, London Hughes, Fortune Feimster\",,\"June 12, 2021\",2021,TV-MA,36 min,Movies,\"The stars of \"\"Bling Empire\"\" discuss the show's success and play bling-themed games, then comic Joel Kim Booster makes his case for joining the cast.\"                                                                                                                                                                                                                                                                                                                                                                                                               |\n|s731   |Movie  |Cobra Kai - The Afterparty                          |NULL                                                   |David Spade, London Hughes, Fortune Feimster                                                                                                                                                                                                                                                            |NULL                                                |June 12, 2021                 |2021        |TV-MA                  |34 min       |Movies                                                           |\"Ralph Macchio, William Zabka and more from the \"\"Cobra Kai\"\" cast drop by to chat Season 3 (spoilers ahead!)         |s731,Movie,Cobra Kai - The Afterparty,,\"David Spade, London Hughes, Fortune Feimster\",,\"June 12, 2021\",2021,TV-MA,34 min,Movies,\"Ralph Macchio, William Zabka and more from the \"\"Cobra Kai\"\" cast drop by to chat Season 3 (spoilers ahead!), followed by Bill Burr of \"\"F Is for Family.\"\"\"                                                                                                                                                                                                                                                                                                                                                                                                             |\n|s733   |Movie  |To All the Boys: Always and Forever - The Afterparty|NULL                                                   |\"Cast members of the \"\"To All the Boys\"\" films dish about the third movie and answer some fan questions                                                                                                                                                                                                 | plus Whitney Cummings gives suspect dating advice.\"|NULL                          |NULL        |2021                   |TV-MA        |36 min                                                           |Movies                                                                                                                |s733,Movie,To All the Boys: Always and Forever - The Afterparty,,\"Cast members of the \"\"To All the Boys\"\" films dish about the third movie and answer some fan questions, plus Whitney Cummings gives suspect dating advice.\",,\"June 12, 2021\",2021,TV-MA,36 min,Movies,\"Cast members of the \"\"To All the Boys\"\" films dish about the third movie and answer some fan questions, plus Whitney Cummings gives suspect dating advice.\"                                                                                                                                                                                                                                                                      |\n|s750   |TV Show|L.A.’s Finest                                       |NULL                                                   |Jessica Alba, Gabrielle Union                                                                                                                                                                                                                                                                           |United States                                       |June 9, 2021                  |2021        |TV-MA                  |2 Seasons    |Crime TV Shows, TV Action & Adventure, TV Comedies               |\"In this spinoff of the \"\"Bad Boys\"\" franchise                                                                        |s750,TV Show,L.A.’s Finest,,\"Jessica Alba, Gabrielle Union\",United States,\"June 9, 2021\",2021,TV-MA,2 Seasons,\"Crime TV Shows, TV Action & Adventure, TV Comedies\",\"In this spinoff of the \"\"Bad Boys\"\" franchise, two police detectives team up while trying to keep their stormy pasts — and differences — from interfering.\"                                                                                                                                                                                                                                                                                                                                                                           |\n|s855   |Movie  |Creating an Army of the Dead                        |NULL                                                   |NULL                                                                                                                                                                                                                                                                                                    |NULL                                                |May 21, 2021                  |2021        |TV-MA                  |29 min       |Documentaries                                                    |\"Zack Snyder and his \"\"Army of the Dead\"\" team dive into the film's wild stunts                                       |s855,Movie,Creating an Army of the Dead,,,,\"May 21, 2021\",2021,TV-MA,29 min,Documentaries,\"Zack Snyder and his \"\"Army of the Dead\"\" team dive into the film's wild stunts, groundbreaking effects and the evolution of the zombie genre.\"                                                                                                                                                                                                                                                                                                                                                                                                                                                                 |\n|s871   |Movie  |Amy Tan: Unintended Memoir                          |James Redford                                          |Amy Tan                                                                                                                                                                                                                                                                                                 |United States                                       |May 18, 2021                  |2021        |TV-14                  |101 min      |Documentaries                                                    |\"From her painful past to her successful career after \"\"The Joy Luck Club                                             |s871,Movie,Amy Tan: Unintended Memoir,James Redford,Amy Tan,United States,\"May 18, 2021\",2021,TV-14,101 min,Documentaries,\"From her painful past to her successful career after \"\"The Joy Luck Club,\"\" groundbreaking writer Amy Tan shares her life story in this documentary.\"                                                                                                                                                                                                                                                                                                                                                                                                                          |\n|s889   |Movie  |The Upshaws - The Afterparty                        |NULL                                                   |David Spade, London Hughes, Fortune Feimster, Wanda Sykes, Mike Epps, Kim Fields                                                                                                                                                                                                                        |NULL                                                |May 14, 2021                  |2021        |TV-14                  |32 min       |Comedies                                                         |\"The comedic dream team from \"\"The Upshaws\"\" discuss the hit series                                                   |s889,Movie,The Upshaws - The Afterparty,,\"David Spade, London Hughes, Fortune Feimster, Wanda Sykes, Mike Epps, Kim Fields\",,\"May 14, 2021\",2021,TV-14,32 min,Comedies,\"The comedic dream team from \"\"The Upshaws\"\" discuss the hit series, share some anecdotes from their own upbringings and play a little swag-centric game.\"                                                                                                                                                                                                                                                                                                                                                                         |\n+-------+-------+----------------------------------------------------+-------------------------------------------------------+--------------------------------------------------------------------------------------------------------------------------------------------------------------------------------------------------------------------------------------------------------------------------------------------------------+----------------------------------------------------+------------------------------+------------+-----------------------+-------------+-----------------------------------------------------------------+----------------------------------------------------------------------------------------------------------------------+----------------------------------------------------------------------------------------------------------------------------------------------------------------------------------------------------------------------------------------------------------------------------------------------------------------------------------------------------------------------------------------------------------------------------------------------------------------------------------------------------------------------------------------------------------------------------------------------------------------------------------------------------------------------------------------------------------+\nonly showing top 20 rows\n"
     ]
    }
   ],
   "source": [
    "flight_df.filter(flight_df[\"_corrupt_record\"].isNotNull()).show(truncate=False)"
   ]
  },
  {
   "cell_type": "code",
   "execution_count": 0,
   "metadata": {
    "application/vnd.databricks.v1+cell": {
     "cellMetadata": {
      "byteLimit": 2048000,
      "rowLimit": 10000
     },
     "inputWidgets": {},
     "nuid": "a5d8002b-73a3-45d2-b889-82ad2ebd7fed",
     "showTitle": false,
     "tableResultSettingsMap": {},
     "title": ""
    }
   },
   "outputs": [],
   "source": [
    "manual_schema = StructType([\n",
    "    StructField(\"show_id\", StringType(), True),\n",
    "    StructField(\"type\", StringType(), True),\n",
    "    StructField(\"title\", StringType(), True),\n",
    "    StructField(\"director\", StringType(), True),\n",
    "    StructField(\"cast\", StringType(), True),\n",
    "    StructField(\"country\", StringType(), True),\n",
    "    StructField(\"date_added\", StringType(), True),\n",
    "    StructField(\"release_year\", IntegerType(), True),\n",
    "    StructField(\"rating\", StringType(), True),\n",
    "    StructField(\"duration\", StringType(), True),\n",
    "    StructField(\"listed_in\", StringType(), True),\n",
    "    StructField(\"description\", StringType(), True)\n",
    "])\n"
   ]
  },
  {
   "cell_type": "code",
   "execution_count": 0,
   "metadata": {
    "application/vnd.databricks.v1+cell": {
     "cellMetadata": {
      "byteLimit": 2048000,
      "rowLimit": 10000
     },
     "inputWidgets": {},
     "nuid": "d3840342-87b5-4d31-9bed-424e45967244",
     "showTitle": false,
     "tableResultSettingsMap": {},
     "title": ""
    }
   },
   "outputs": [],
   "source": [
    "flight_df = spark.read.format(\"csv\") \\\n",
    "    .option(\"header\", \"true\") \\\n",
    "    .option(\"mode\", \"PERMISSIVE\") \\\n",
    "    .schema(manual_schema) \\\n",
    "    .load(\"dbfs:/Volumes/workspace/default/task2/netflix_titles_CLEANED.csv\")\n",
    "#correct the schema code"
   ]
  },
  {
   "cell_type": "code",
   "execution_count": 0,
   "metadata": {
    "application/vnd.databricks.v1+cell": {
     "cellMetadata": {
      "byteLimit": 2048000,
      "rowLimit": 10000
     },
     "inputWidgets": {},
     "nuid": "45573b05-f5a1-425b-97f2-e84761f1aaf6",
     "showTitle": false,
     "tableResultSettingsMap": {},
     "title": ""
    }
   },
   "outputs": [
    {
     "output_type": "stream",
     "name": "stdout",
     "output_type": "stream",
     "text": [
      "+---------------------+------------------+------+\n|Movie_Title          |Production_Country|rating|\n+---------------------+------------------+------+\n|Dick Johnson Is Dead |United States     |PG-13 |\n|Blood & Water        |South Africa      |TV-MA |\n|Ganglands            |NULL              |TV-MA |\n|Jailbirds New Orleans|NULL              |TV-MA |\n|Kota Factory         |India             |TV-MA |\n+---------------------+------------------+------+\nonly showing top 5 rows\n"
     ]
    }
   ],
   "source": [
    "from pyspark.sql.functions import col\n",
    "\n",
    "flight_df.select(\n",
    "    col(\"title\").alias(\"Movie_Title\"),\n",
    "    col(\"country\").alias(\"Production_Country\"),\n",
    "    col(\"rating\")\n",
    ").show(5, truncate=False)\n"
   ]
  },
  {
   "cell_type": "code",
   "execution_count": 0,
   "metadata": {
    "application/vnd.databricks.v1+cell": {
     "cellMetadata": {
      "byteLimit": 2048000,
      "rowLimit": 10000
     },
     "inputWidgets": {},
     "nuid": "e9c802da-a99d-4714-adde-2344e68ac007",
     "showTitle": false,
     "tableResultSettingsMap": {},
     "title": ""
    }
   },
   "outputs": [
    {
     "output_type": "stream",
     "name": "stdout",
     "output_type": "stream",
     "text": [
      "+-------+-----+--------------------------------+-----------------------------+-----------------------------------------------------------------------------------------------------------------------------------------------------------------------+-----------------------+------------------+------------+------+--------+----------------------------------+---------------------------------------------------------------------------------------------------------------------------------------------------------+\n|show_id|type |title                           |director                     |cast                                                                                                                                                                   |country                |date_added        |release_year|rating|duration|listed_in                         |description                                                                                                                                              |\n+-------+-----+--------------------------------+-----------------------------+-----------------------------------------------------------------------------------------------------------------------------------------------------------------------+-----------------------+------------------+------------+------+--------+----------------------------------+---------------------------------------------------------------------------------------------------------------------------------------------------------+\n|s1     |Movie|Dick Johnson Is Dead            |Kirsten Johnson              |NULL                                                                                                                                                                   |United States          |September 25, 2021|2020        |PG-13 |90 min  |Documentaries                     |As her father nears the end of his life, filmmaker Kirsten Johnson stages his death in inventive and comical ways to help them both face the inevitable. |\n|s7     |Movie|My Little Pony: A New Generation|Robert Cullen, José Luis Ucha|Vanessa Hudgens, Kimiko Glenn, James Marsden, Sofia Carson, Liza Koshy, Ken Jeong, Elizabeth Perkins, Jane Krakowski, Michael McKean, Phil LaMarr                      |NULL                   |September 24, 2021|2021        |PG    |91 min  |Children & Family Movies          |Equestria's divided. But a bright-eyed hero believes Earth Ponies, Pegasi and Unicorns should be pals — and, hoof to heart, she’s determined to prove it.|\n|s10    |Movie|The Starling                    |Theodore Melfi               |Melissa McCarthy, Chris O'Dowd, Kevin Kline, Timothy Olyphant, Daveed Diggs, Skyler Gisondo, Laura Harrier, Rosalind Chao, Kimberly Quinn, Loretta Devine, Ravi Kapoor |United States          |September 24, 2021|2021        |PG-13 |104 min |Comedies, Dramas                  |A woman adjusting to life after a loss contends with a feisty bird that's taken over her garden — and a husband who's struggling to find a way forward.  |\n|s13    |Movie|Je Suis Karl                    |Christian Schwochow          |Luna Wedler, Jannis Niewöhner, Milan Peschel, Edin Hasanović, Anna Fialová, Marlon Boess, Victor Boccard, Fleur Geffrier, Aziz Dyab, Mélanie Fouché, Elizaveta Maximová|Germany, Czech Republic|September 23, 2021|2021        |TV-MA |127 min |Dramas, International Movies      |After most of her family is murdered in a terrorist bombing, a young woman is unknowingly lured into joining the very group that killed them.            |\n|s14    |Movie|Confessions of an Invisible Girl|Bruno Garotti                |Klara Castanho, Lucca Picon, Júlia Gomes, Marcus Bessa, Kiria Malheiros, Fernanda Concon, Gabriel Lima, Caio Cabral, Leonardo Cidade, Jade Cardozo                     |NULL                   |September 22, 2021|2021        |TV-PG |91 min  |Children & Family Movies, Comedies|When the clever but socially-awkward Tetê joins a new school, she'll do anything to fit in. But the queen bee among her classmates has other ideas.      |\n+-------+-----+--------------------------------+-----------------------------+-----------------------------------------------------------------------------------------------------------------------------------------------------------------------+-----------------------+------------------+------------+------+--------+----------------------------------+---------------------------------------------------------------------------------------------------------------------------------------------------------+\nonly showing top 5 rows\n"
     ]
    }
   ],
   "source": [
    "filtered_df = flight_df.filter(\n",
    "    (col(\"type\") == \"Movie\") & (col(\"release_year\") > 2019)\n",
    ")\n",
    "filtered_df.show(5, truncate=False)\n"
   ]
  },
  {
   "cell_type": "code",
   "execution_count": 0,
   "metadata": {
    "application/vnd.databricks.v1+cell": {
     "cellMetadata": {
      "byteLimit": 2048000,
      "rowLimit": 10000
     },
     "inputWidgets": {},
     "nuid": "2f00c7f3-f8aa-41eb-b7ab-d61cec7f5277",
     "showTitle": false,
     "tableResultSettingsMap": {},
     "title": ""
    }
   },
   "outputs": [
    {
     "output_type": "stream",
     "name": "stdout",
     "output_type": "stream",
     "text": [
      "+---------------------+-------+\n|title                |Source |\n+---------------------+-------+\n|Dick Johnson Is Dead |Netflix|\n|Blood & Water        |Netflix|\n|Ganglands            |Netflix|\n|Jailbirds New Orleans|Netflix|\n|Kota Factory         |Netflix|\n+---------------------+-------+\nonly showing top 5 rows\n"
     ]
    }
   ],
   "source": [
    "from pyspark.sql.functions import lit #column literal\n",
    "\n",
    "flight_df = flight_df.withColumn(\"Source\", lit(\"Netflix\"))\n",
    "flight_df.select(\"title\", \"Source\").show(5, truncate=False)\n"
   ]
  },
  {
   "cell_type": "code",
   "execution_count": 0,
   "metadata": {
    "application/vnd.databricks.v1+cell": {
     "cellMetadata": {
      "byteLimit": 2048000,
      "rowLimit": 10000
     },
     "inputWidgets": {},
     "nuid": "1e35eea5-2e92-4bc2-91f4-cae0081321dc",
     "showTitle": false,
     "tableResultSettingsMap": {},
     "title": ""
    }
   },
   "outputs": [
    {
     "output_type": "stream",
     "name": "stdout",
     "output_type": "stream",
     "text": [
      "+---------------------+---------+------------+\n|title                |duration |content_type|\n+---------------------+---------+------------+\n|Dick Johnson Is Dead |90 min   |Movie       |\n|Blood & Water        |2 Seasons|Series      |\n|Ganglands            |1 Season |Series      |\n|Jailbirds New Orleans|1 Season |Series      |\n|Kota Factory         |2 Seasons|Series      |\n+---------------------+---------+------------+\nonly showing top 5 rows\n"
     ]
    }
   ],
   "source": [
    "from pyspark.sql.functions import when #derived col\n",
    "\n",
    "flight_df = flight_df.withColumn(\n",
    "    \"content_type\",\n",
    "    when(col(\"duration\").like(\"%Season%\"), \"Series\").otherwise(\"Movie\")\n",
    ")\n",
    "flight_df.select(\"title\", \"duration\", \"content_type\").show(5, truncate=False)\n"
   ]
  },
  {
   "cell_type": "code",
   "execution_count": 0,
   "metadata": {
    "application/vnd.databricks.v1+cell": {
     "cellMetadata": {
      "byteLimit": 2048000,
      "rowLimit": 10000
     },
     "inputWidgets": {},
     "nuid": "0695f9dd-441e-47f0-aaf5-73891e707d5d",
     "showTitle": false,
     "tableResultSettingsMap": {},
     "title": ""
    }
   },
   "outputs": [
    {
     "output_type": "stream",
     "name": "stdout",
     "output_type": "stream",
     "text": [
      "root\n |-- show_id: string (nullable = true)\n |-- type: string (nullable = true)\n |-- title: string (nullable = true)\n |-- director: string (nullable = true)\n |-- cast: string (nullable = true)\n |-- country: string (nullable = true)\n |-- Added_On: string (nullable = true)\n |-- release_year: integer (nullable = true)\n |-- rating: string (nullable = true)\n |-- duration: string (nullable = true)\n |-- Genre: string (nullable = true)\n |-- description: string (nullable = true)\n |-- Source: string (nullable = false)\n |-- content_type: string (nullable = false)\n\n"
     ]
    }
   ],
   "source": [
    "renamed_df = flight_df.withColumnRenamed(\"listed_in\", \"Genre\") \\\n",
    "                      .withColumnRenamed(\"date_added\", \"Added_On\")\n",
    "renamed_df.printSchema()\n"
   ]
  },
  {
   "cell_type": "code",
   "execution_count": 0,
   "metadata": {
    "application/vnd.databricks.v1+cell": {
     "cellMetadata": {
      "byteLimit": 2048000,
      "rowLimit": 10000
     },
     "inputWidgets": {},
     "nuid": "3bbf32be-287b-450a-93de-610b2e1d0d0a",
     "showTitle": false,
     "tableResultSettingsMap": {},
     "title": ""
    }
   },
   "outputs": [
    {
     "output_type": "stream",
     "name": "stdout",
     "output_type": "stream",
     "text": [
      "root\n |-- show_id: string (nullable = true)\n |-- type: string (nullable = true)\n |-- title: string (nullable = true)\n |-- director: string (nullable = true)\n |-- cast: string (nullable = true)\n |-- country: string (nullable = true)\n |-- date_added: string (nullable = true)\n |-- release_year: string (nullable = true)\n |-- rating: string (nullable = true)\n |-- duration: string (nullable = true)\n |-- listed_in: string (nullable = true)\n |-- description: string (nullable = true)\n |-- Source: string (nullable = false)\n |-- content_type: string (nullable = false)\n\n"
     ]
    }
   ],
   "source": [
    "casted_df = flight_df.withColumn(\"release_year\", col(\"release_year\").cast(\"string\"))\n",
    "casted_df.printSchema()\n",
    "#chnage relese year to sting from int   "
   ]
  },
  {
   "cell_type": "code",
   "execution_count": 0,
   "metadata": {
    "application/vnd.databricks.v1+cell": {
     "cellMetadata": {
      "byteLimit": 2048000,
      "rowLimit": 10000
     },
     "inputWidgets": {},
     "nuid": "d805ab14-fba7-4ca4-8816-180497e66c6e",
     "showTitle": false,
     "tableResultSettingsMap": {},
     "title": ""
    }
   },
   "outputs": [
    {
     "output_type": "stream",
     "name": "stdout",
     "output_type": "stream",
     "text": [
      "root\n |-- show_id: string (nullable = true)\n |-- type: string (nullable = true)\n |-- title: string (nullable = true)\n |-- director: string (nullable = true)\n |-- country: string (nullable = true)\n |-- date_added: string (nullable = true)\n |-- release_year: integer (nullable = true)\n |-- rating: string (nullable = true)\n |-- duration: string (nullable = true)\n |-- listed_in: string (nullable = true)\n |-- Source: string (nullable = false)\n |-- content_type: string (nullable = false)\n\n"
     ]
    }
   ],
   "source": [
    "clean_df = flight_df.drop(\"description\", \"cast\") #delee thes both\n",
    "clean_df.printSchema()\n"
   ]
  },
  {
   "cell_type": "code",
   "execution_count": 0,
   "metadata": {
    "application/vnd.databricks.v1+cell": {
     "cellMetadata": {
      "byteLimit": 2048000,
      "rowLimit": 10000
     },
     "inputWidgets": {},
     "nuid": "0d98368e-1c05-4035-8a08-401abbe6c97e",
     "showTitle": false,
     "tableResultSettingsMap": {},
     "title": ""
    }
   },
   "outputs": [
    {
     "output_type": "stream",
     "name": "stdout",
     "output_type": "stream",
     "text": [
      "+-------+----+-----+--------+----+-------+----------+------------+------+--------+---------+-----------+------+------------+\n|show_id|type|title|director|cast|country|date_added|release_year|rating|duration|listed_in|description|Source|content_type|\n+-------+----+-----+--------+----+-------+----------+------------+------+--------+---------+-----------+------+------------+\n|      0|   1|    2|    2636| 826|    832|        13|          22|     6|       5|        3|          3|     0|           0|\n+-------+----+-----+--------+----+-------+----------+------------+------+--------+---------+-----------+------+------------+\n\n"
     ]
    }
   ],
   "source": [
    "from pyspark.sql.functions import col, sum, when\n",
    "\n",
    "null_counts = flight_df.select([\n",
    "    sum(when(col(c).isNull(), 1).otherwise(0)).alias(c)\n",
    "    for c in flight_df.columns\n",
    "])\n",
    "\n",
    "null_counts.show()\n",
    "#null vals count code\n"
   ]
  },
  {
   "cell_type": "code",
   "execution_count": 0,
   "metadata": {
    "application/vnd.databricks.v1+cell": {
     "cellMetadata": {
      "byteLimit": 2048000,
      "rowLimit": 10000
     },
     "inputWidgets": {},
     "nuid": "03e640d3-9897-4271-aeef-987582cda399",
     "showTitle": false,
     "tableResultSettingsMap": {},
     "title": ""
    }
   },
   "outputs": [
    {
     "output_type": "stream",
     "name": "stdout",
     "output_type": "stream",
     "text": [
      "+-------+-------+---------------------------------------------------+---------------------------------------------+----------------------------------------------------------------------------------------------------------------------------------------------------------------------------------------------------------------------------------------------------------------------------------------------------------------------------------------------------------------------------------------------------------------------------------------------------------------------------------------------------------------------------------------------------+-------------+------------------+------------+------+---------+------------------------------------------------------------------------+------------------------------------------------------------------------------------------------------------------------------------------------------------+-------+------------+\n|show_id|type   |title                                              |director                                     |cast                                                                                                                                                                                                                                                                                                                                                                                                                                                                                                                                                |country      |date_added        |release_year|rating|duration |listed_in                                                               |description                                                                                                                                                 |Source |content_type|\n+-------+-------+---------------------------------------------------+---------------------------------------------+----------------------------------------------------------------------------------------------------------------------------------------------------------------------------------------------------------------------------------------------------------------------------------------------------------------------------------------------------------------------------------------------------------------------------------------------------------------------------------------------------------------------------------------------------+-------------+------------------+------------+------+---------+------------------------------------------------------------------------+------------------------------------------------------------------------------------------------------------------------------------------------------------+-------+------------+\n|s1     |Movie  |Dick Johnson Is Dead                               |Kirsten Johnson                              |NULL                                                                                                                                                                                                                                                                                                                                                                                                                                                                                                                                                |United States|September 25, 2021|2020        |PG-13 |90 min   |Documentaries                                                           |As her father nears the end of his life, filmmaker Kirsten Johnson stages his death in inventive and comical ways to help them both face the inevitable.    |Netflix|Movie       |\n|s2     |TV Show|Blood & Water                                      |NULL                                         |Ama Qamata, Khosi Ngema, Gail Mabalane, Thabang Molaba, Dillon Windvogel, Natasha Thahane, Arno Greeff, Xolile Tshabalala, Getmore Sithole, Cindy Mahlangu, Ryle De Morny, Greteli Fincham, Sello Maake Ka-Ncube, Odwa Gwanya, Mekaila Mathys, Sandi Schultz, Duane Williams, Shamilla Miller, Patrick Mofokeng                                                                                                                                                                                                                                     |South Africa |September 24, 2021|2021        |TV-MA |2 Seasons|International TV Shows, TV Dramas, TV Mysteries                         |After crossing paths at a party, a Cape Town teen sets out to prove whether a private-school swimming star is her sister who was abducted at birth.         |Netflix|Series      |\n|s3     |TV Show|Ganglands                                          |Julien Leclercq                              |Sami Bouajila, Tracy Gotoas, Samuel Jouy, Nabiha Akkari, Sofia Lesaffre, Salim Kechiouche, Noureddine Farihi, Geert Van Rampelberg, Bakary Diombera                                                                                                                                                                                                                                                                                                                                                                                                 |NULL         |September 24, 2021|2021        |TV-MA |1 Season |Crime TV Shows, International TV Shows, TV Action & Adventure           |To protect his family from a powerful drug lord, skilled thief Mehdi and his expert team of robbers are pulled into a violent and deadly turf war.          |Netflix|Series      |\n|s4     |TV Show|Jailbirds New Orleans                              |NULL                                         |NULL                                                                                                                                                                                                                                                                                                                                                                                                                                                                                                                                                |NULL         |September 24, 2021|2021        |TV-MA |1 Season |Docuseries, Reality TV                                                  |Feuds, flirtations and toilet talk go down among the incarcerated women at the Orleans Justice Center in New Orleans on this gritty reality series.         |Netflix|Series      |\n|s5     |TV Show|Kota Factory                                       |NULL                                         |Mayur More, Jitendra Kumar, Ranjan Raj, Alam Khan, Ahsaas Channa, Revathi Pillai, Urvi Singh, Arun Kumar                                                                                                                                                                                                                                                                                                                                                                                                                                            |India        |September 24, 2021|2021        |TV-MA |2 Seasons|International TV Shows, Romantic TV Shows, TV Comedies                  |In a city of coaching centers known to train India’s finest collegiate minds, an earnest but unexceptional student and his friends navigate campus life.    |Netflix|Series      |\n|s6     |TV Show|Midnight Mass                                      |Mike Flanagan                                |Kate Siegel, Zach Gilford, Hamish Linklater, Henry Thomas, Kristin Lehman, Samantha Sloyan, Igby Rigney, Rahul Kohli, Annarah Cymone, Annabeth Gish, Alex Essoe, Rahul Abburi, Matt Biedel, Michael Trucco, Crystal Balint, Louis Oliver                                                                                                                                                                                                                                                                                                            |NULL         |September 24, 2021|2021        |TV-MA |1 Season |TV Dramas, TV Horror, TV Mysteries                                      |The arrival of a charismatic young priest brings glorious miracles, ominous mysteries and renewed religious fervor to a dying town desperate to believe.    |Netflix|Series      |\n|s7     |Movie  |My Little Pony: A New Generation                   |Robert Cullen, José Luis Ucha                |Vanessa Hudgens, Kimiko Glenn, James Marsden, Sofia Carson, Liza Koshy, Ken Jeong, Elizabeth Perkins, Jane Krakowski, Michael McKean, Phil LaMarr                                                                                                                                                                                                                                                                                                                                                                                                   |NULL         |September 24, 2021|2021        |PG    |91 min   |Children & Family Movies                                                |Equestria's divided. But a bright-eyed hero believes Earth Ponies, Pegasi and Unicorns should be pals — and, hoof to heart, she’s determined to prove it.   |Netflix|Movie       |\n|s11    |TV Show|Vendetta: Truth, Lies and The Mafia                |NULL                                         |NULL                                                                                                                                                                                                                                                                                                                                                                                                                                                                                                                                                |NULL         |September 24, 2021|2021        |TV-MA |1 Season |Crime TV Shows, Docuseries, International TV Shows                      |\"Sicily boasts a bold \"\"Anti-Mafia\"\" coalition. But what happens when those trying to bring down organized crime are accused of being criminals themselves?\"|Netflix|Series      |\n|s12    |TV Show|Bangkok Breaking                                   |Kongkiat Komesiri                            |Sukollawat Kanarot, Sushar Manaying, Pavarit Mongkolpisit, Sahajak Boonthanakit, Suthipongse Thatphithakkul, Bhasaworn Bawronkirati, Daweerit Chullasapya, Waratthaya Wongchayaporn, Kittiphoom Wongpentak, Abhicha Thanachanun, Nophand Boonyai, Kittipong Khamsat, Arisara Wongchalee, Jaytiya Naiwattanakul, Pantipa Arunwattanachai, Panupan Jantanawong, Kungtap Saelim, Phumphat Chartsuriyakiat, Issara Veranitinunt, Keerati Sivakuae, Panjai Sirisuwan, Supranee Charoenpol, Suda Chuenban, Visaka Banhansupavat, Pitchatorn Santinatornkul|NULL         |September 23, 2021|2021        |TV-MA |1 Season |Crime TV Shows, International TV Shows, TV Action & Adventure           |Struggling to earn a living in Bangkok, a man joins an emergency rescue service and realizes he must unravel a citywide conspiracy.                         |Netflix|Series      |\n|s14    |Movie  |Confessions of an Invisible Girl                   |Bruno Garotti                                |Klara Castanho, Lucca Picon, Júlia Gomes, Marcus Bessa, Kiria Malheiros, Fernanda Concon, Gabriel Lima, Caio Cabral, Leonardo Cidade, Jade Cardozo                                                                                                                                                                                                                                                                                                                                                                                                  |NULL         |September 22, 2021|2021        |TV-PG |91 min   |Children & Family Movies, Comedies                                      |When the clever but socially-awkward Tetê joins a new school, she'll do anything to fit in. But the queen bee among her classmates has other ideas.         |Netflix|Movie       |\n|s15    |TV Show|Crime Stories: India Detectives                    |NULL                                         |NULL                                                                                                                                                                                                                                                                                                                                                                                                                                                                                                                                                |NULL         |September 22, 2021|2021        |TV-MA |1 Season |British TV Shows, Crime TV Shows, Docuseries                            |Cameras following Bengaluru police on the job offer a rare glimpse into the complex and challenging inner workings of four major crime investigations.      |Netflix|Series      |\n|s16    |TV Show|Dear White People                                  |NULL                                         |Logan Browning, Brandon P. Bell, DeRon Horton, Antoinette Robertson, John Patrick Amedori, Ashley Blaine Featherson, Marque Richardson, Giancarlo Esposito                                                                                                                                                                                                                                                                                                                                                                                          |United States|September 22, 2021|2021        |TV-MA |4 Seasons|TV Comedies, TV Dramas                                                  |\"Students of color navigate the daily slights and slippery politics of life at an Ivy League college that's not nearly as \"\"post-racial\"\" as it thinks.\"    |Netflix|Series      |\n|s17    |Movie  |Europe's Most Dangerous Man: Otto Skorzeny in Spain|Pedro de Echave García, Pablo Azorín Williams|NULL                                                                                                                                                                                                                                                                                                                                                                                                                                                                                                                                                |NULL         |September 22, 2021|2020        |TV-MA |67 min   |Documentaries, International Movies                                     |Declassified documents reveal the post-WWII life of Otto Skorzeny, a close Hitler ally who escaped to Spain and became an adviser to world presidents.      |Netflix|Movie       |\n|s18    |TV Show|Falsa identidad                                    |NULL                                         |Luis Ernesto Franco, Camila Sodi, Sergio Goyri, Samadhi Zendejas, Eduardo Yáñez, Sonya Smith, Alejandro Camacho, Azela Robinson, Uriel del Toro, Géraldine Bazán, Gabriela Roel, Marcus Ornellas                                                                                                                                                                                                                                                                                                                                                    |Mexico       |September 22, 2021|2020        |TV-MA |2 Seasons|Crime TV Shows, Spanish-Language TV Shows, TV Dramas                    |Strangers Diego and Isabel flee their home in Mexico and pretend to be a married couple to escape his drug-dealing enemies and her abusive husband.         |Netflix|Series      |\n|s19    |Movie  |Intrusion                                          |Adam Salky                                   |Freida Pinto, Logan Marshall-Green, Robert John Burke, Megan Elisabeth Kelly, Sarah Minnich, Hayes Hargrove, Mark Sivertsen, Brandon Fierro, Antonio Valles, Clint Obenchain                                                                                                                                                                                                                                                                                                                                                                        |NULL         |September 22, 2021|2021        |TV-14 |94 min   |Thrillers                                                               |After a deadly home invasion at a couple’s new dream house, the traumatized wife searches for answers — and learns the real danger is just beginning.       |Netflix|Movie       |\n|s20    |TV Show|Jaguar                                             |NULL                                         |Blanca Suárez, Iván Marcos, Óscar Casas, Adrián Lastra, Francesc Garrido, Stefan Weinert, Julia Möller, Alicia Chojnowski                                                                                                                                                                                                                                                                                                                                                                                                                           |NULL         |September 22, 2021|2021        |TV-MA |1 Season |International TV Shows, Spanish-Language TV Shows, TV Action & Adventure|In the 1960s, a Holocaust survivor joins a group of self-trained spies who seek justice against Nazis fleeing to Spain to hide after WWII.                  |Netflix|Series      |\n|s21    |TV Show|Monsters Inside: The 24 Faces of Billy Milligan    |Olivier Megaton                              |NULL                                                                                                                                                                                                                                                                                                                                                                                                                                                                                                                                                |NULL         |September 22, 2021|2021        |TV-14 |1 Season |Crime TV Shows, Docuseries, International TV Shows                      |In the late 1970s, an accused serial rapist claims multiple personalities control his behavior, setting off a legal odyssey that captivates America.        |Netflix|Series      |\n|s22    |TV Show|Resurrection: Ertugrul                             |NULL                                         |Engin Altan Düzyatan, Serdar Gökhan, Hülya Darcan, Kaan Taşaner, Esra Bilgiç, Osman Soykut, Serdar Deniz, Cengiz Coşkun, Reshad Strik, Hande Subaşı                                                                                                                                                                                                                                                                                                                                                                                                 |Turkey       |September 22, 2021|2018        |TV-14 |5 Seasons|International TV Shows, TV Action & Adventure, TV Dramas                |When a good deed unwittingly endangers his clan, a 13th-century Turkish warrior agrees to fight a sultan's enemies in exchange for new tribal land.         |Netflix|Series      |\n|s23    |Movie  |Avvai Shanmughi                                    |K.S. Ravikumar                               |Kamal Hassan, Meena, Gemini Ganesan, Heera Rajgopal, Nassar, S.P. Balasubrahmanyam                                                                                                                                                                                                                                                                                                                                                                                                                                                                  |NULL         |September 21, 2021|1996        |TV-PG |161 min  |Comedies, International Movies                                          |Newly divorced and denied visitation rights with his daughter, a doting father disguises himself as a gray-haired nanny in order to spend time with her.    |Netflix|Movie       |\n|s24    |Movie  |Go! Go! Cory Carson: Chrissy Takes the Wheel       |Alex Woo, Stanley Moore                      |Maisie Benson, Paul Killam, Kerry Gudjohnsen, AC Lim                                                                                                                                                                                                                                                                                                                                                                                                                                                                                                |NULL         |September 21, 2021|2021        |TV-Y  |61 min   |Children & Family Movies                                                |From arcade games to sled days and hiccup cures, Cory Carson’s curious little sister Chrissy speeds off on her own for fun and adventure all over town!     |Netflix|Movie       |\n+-------+-------+---------------------------------------------------+---------------------------------------------+----------------------------------------------------------------------------------------------------------------------------------------------------------------------------------------------------------------------------------------------------------------------------------------------------------------------------------------------------------------------------------------------------------------------------------------------------------------------------------------------------------------------------------------------------+-------------+------------------+------------+------+---------+------------------------------------------------------------------------+------------------------------------------------------------------------------------------------------------------------------------------------------------+-------+------------+\nonly showing top 20 rows\n"
     ]
    }
   ],
   "source": [
    "flight_df.filter(\" or \".join([f\"{c} is null\" for c in flight_df.columns])).show(truncate=False)\n",
    "#print rows will null val"
   ]
  },
  {
   "cell_type": "code",
   "execution_count": 0,
   "metadata": {
    "application/vnd.databricks.v1+cell": {
     "cellMetadata": {
      "byteLimit": 2048000,
      "rowLimit": 10000
     },
     "inputWidgets": {},
     "nuid": "ba40fc95-efa5-4ab0-a5e1-7f9d1a35ba90",
     "showTitle": false,
     "tableResultSettingsMap": {},
     "title": ""
    }
   },
   "outputs": [],
   "source": [
    "cleaned_df = flight_df.na.drop()\n",
    "#ddrop null vals"
   ]
  },
  {
   "cell_type": "code",
   "execution_count": 0,
   "metadata": {
    "application/vnd.databricks.v1+cell": {
     "cellMetadata": {
      "byteLimit": 2048000,
      "rowLimit": 10000
     },
     "inputWidgets": {},
     "nuid": "221f74d3-2452-4083-90fd-43b18f46ddb5",
     "showTitle": false,
     "tableResultSettingsMap": {},
     "title": ""
    }
   },
   "outputs": [
    {
     "output_type": "stream",
     "name": "stdout",
     "output_type": "stream",
     "text": [
      "+-------+-------+--------------------+----------------+--------------------+-------------+------------------+------------+------+---------+--------------------+--------------------+-------+------------+\n|show_id|   type|               title|        director|                cast|      country|        date_added|release_year|rating| duration|           listed_in|         description| Source|content_type|\n+-------+-------+--------------------+----------------+--------------------+-------------+------------------+------------+------+---------+--------------------+--------------------+-------+------------+\n|     s1|  Movie|Dick Johnson Is Dead| Kirsten Johnson|       Not Available|United States|September 25, 2021|        2020| PG-13|   90 min|       Documentaries|As her father nea...|Netflix|       Movie|\n|     s2|TV Show|       Blood & Water|Unknown Director|Ama Qamata, Khosi...| South Africa|September 24, 2021|        2021| TV-MA|2 Seasons|International TV ...|After crossing pa...|Netflix|      Series|\n|     s3|TV Show|           Ganglands| Julien Leclercq|Sami Bouajila, Tr...|      Unknown|September 24, 2021|        2021| TV-MA| 1 Season|Crime TV Shows, I...|To protect his fa...|Netflix|      Series|\n|     s4|TV Show|Jailbirds New Orl...|Unknown Director|       Not Available|      Unknown|September 24, 2021|        2021| TV-MA| 1 Season|Docuseries, Reali...|Feuds, flirtation...|Netflix|      Series|\n|     s5|TV Show|        Kota Factory|Unknown Director|Mayur More, Jiten...|        India|September 24, 2021|        2021| TV-MA|2 Seasons|International TV ...|In a city of coac...|Netflix|      Series|\n+-------+-------+--------------------+----------------+--------------------+-------------+------------------+------------+------+---------+--------------------+--------------------+-------+------------+\nonly showing top 5 rows\n"
     ]
    }
   ],
   "source": [
    "filled_df = flight_df.fillna({\n",
    "    \"director\": \"Unknown Director\",\n",
    "    \"cast\": \"Not Available\",\n",
    "    \"country\": \"Unknown\",\n",
    "    \"date_added\": \"N/A\",\n",
    "    \"rating\": \"Unrated\"\n",
    "})\n",
    "filled_df.show(5)\n",
    "#fill null"
   ]
  },
  {
   "cell_type": "code",
   "execution_count": 0,
   "metadata": {
    "application/vnd.databricks.v1+cell": {
     "cellMetadata": {
      "byteLimit": 2048000,
      "rowLimit": 10000
     },
     "inputWidgets": {},
     "nuid": "60252068-5d46-49af-bb4e-6e68d7f25ee3",
     "showTitle": false,
     "tableResultSettingsMap": {},
     "title": ""
    }
   },
   "outputs": [],
   "source": [
    "filled_df.write \\\n",
    "    .format(\"csv\") \\\n",
    "    .option(\"header\", \"true\") \\\n",
    "    .mode(\"overwrite\") \\\n",
    "    .save(\"dbfs:/Volumes/workspace/default/task2/cleaned_netflix_data_csv\")\n",
    "#update df using spark write operation"
   ]
  },
  {
   "cell_type": "code",
   "execution_count": 0,
   "metadata": {
    "application/vnd.databricks.v1+cell": {
     "cellMetadata": {
      "byteLimit": 2048000,
      "rowLimit": 10000
     },
     "inputWidgets": {},
     "nuid": "369cb85d-5e68-4818-9d5b-748c5dffe047",
     "showTitle": false,
     "tableResultSettingsMap": {},
     "title": ""
    }
   },
   "outputs": [],
   "source": [
    "filled_df.write \\\n",
    "    .format(\"parquet\") \\\n",
    "    .mode(\"overwrite\") \\\n",
    "    .save(\"dbfs:/Volumes/workspace/default/task2/cleaned_netflix_data_parquet\")\n",
    "#same abuve better for large dataset"
   ]
  }
 ],
 "metadata": {
  "application/vnd.databricks.v1+notebook": {
   "computePreferences": null,
   "dashboards": [],
   "environmentMetadata": {
    "base_environment": "",
    "environment_version": "4"
   },
   "inputWidgetPreferences": null,
   "language": "python",
   "notebookMetadata": {
    "mostRecentlyExecutedCommandWithImplicitDF": {
     "commandId": 7086436781370735,
     "dataframes": [
      "_sqldf"
     ]
    },
    "pythonIndentUnit": 4
   },
   "notebookName": "Roylin_4SF23CI121",
   "widgets": {}
  },
  "language_info": {
   "name": "python"
  }
 },
 "nbformat": 4,
 "nbformat_minor": 0
}